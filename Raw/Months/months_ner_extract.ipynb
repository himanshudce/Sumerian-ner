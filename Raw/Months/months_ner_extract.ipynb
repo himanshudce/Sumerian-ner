{
 "cells": [
  {
   "cell_type": "code",
   "execution_count": 3,
   "metadata": {},
   "outputs": [],
   "source": [
    "import pandas as pd"
   ]
  },
  {
   "cell_type": "code",
   "execution_count": 12,
   "metadata": {},
   "outputs": [],
   "source": [
    "data=pd.read_csv(\"convertcsv.csv\")"
   ]
  },
  {
   "cell_type": "code",
   "execution_count": 24,
   "metadata": {},
   "outputs": [
    {
     "data": {
      "text/html": [
       "<div>\n",
       "<style scoped>\n",
       "    .dataframe tbody tr th:only-of-type {\n",
       "        vertical-align: middle;\n",
       "    }\n",
       "\n",
       "    .dataframe tbody tr th {\n",
       "        vertical-align: top;\n",
       "    }\n",
       "\n",
       "    .dataframe thead th {\n",
       "        text-align: right;\n",
       "    }\n",
       "</style>\n",
       "<table border=\"1\" class=\"dataframe\">\n",
       "  <thead>\n",
       "    <tr style=\"text-align: right;\">\n",
       "      <th></th>\n",
       "      <th>Month</th>\n",
       "      <th>Drehem Š26-Š43</th>\n",
       "      <th>Drehem Š44</th>\n",
       "      <th>Drehem Š45</th>\n",
       "      <th>Drehem Š46</th>\n",
       "      <th>Drehem Š47-AS3</th>\n",
       "      <th>Drehem AS4-5</th>\n",
       "      <th>Drehem ŠS2</th>\n",
       "      <th>Drehem &lt; ŠS3</th>\n",
       "      <th>Drehem ŠS3</th>\n",
       "      <th>...</th>\n",
       "      <th>Ur</th>\n",
       "      <th>Garšana</th>\n",
       "      <th>Umma &lt; Š30</th>\n",
       "      <th>Umma Š30-39</th>\n",
       "      <th>Umma Š40-AS6</th>\n",
       "      <th>Umma AS7-ŠS2</th>\n",
       "      <th>Umma ŠS3-IS8</th>\n",
       "      <th>Adab</th>\n",
       "      <th>Irisagrig (Owen)</th>\n",
       "      <th>Irisagrig (Ozaki)</th>\n",
       "    </tr>\n",
       "  </thead>\n",
       "  <tbody>\n",
       "    <tr>\n",
       "      <th>72</th>\n",
       "      <td>šu-numun</td>\n",
       "      <td>NaN</td>\n",
       "      <td>NaN</td>\n",
       "      <td>NaN</td>\n",
       "      <td>NaN</td>\n",
       "      <td>NaN</td>\n",
       "      <td>NaN</td>\n",
       "      <td>NaN</td>\n",
       "      <td>NaN</td>\n",
       "      <td>NaN</td>\n",
       "      <td>...</td>\n",
       "      <td>NaN</td>\n",
       "      <td>NaN</td>\n",
       "      <td>6</td>\n",
       "      <td>6</td>\n",
       "      <td>6</td>\n",
       "      <td>6</td>\n",
       "      <td>6</td>\n",
       "      <td>NaN</td>\n",
       "      <td>NaN</td>\n",
       "      <td>NaN</td>\n",
       "    </tr>\n",
       "    <tr>\n",
       "      <th>73</th>\n",
       "      <td>u5-bi2mušen-gu7</td>\n",
       "      <td>3</td>\n",
       "      <td>3</td>\n",
       "      <td>3</td>\n",
       "      <td>3</td>\n",
       "      <td>3</td>\n",
       "      <td>3</td>\n",
       "      <td>3</td>\n",
       "      <td>3</td>\n",
       "      <td>3</td>\n",
       "      <td>...</td>\n",
       "      <td>4</td>\n",
       "      <td>4</td>\n",
       "      <td>NaN</td>\n",
       "      <td>NaN</td>\n",
       "      <td>NaN</td>\n",
       "      <td>NaN</td>\n",
       "      <td>NaN</td>\n",
       "      <td>NaN</td>\n",
       "      <td>NaN</td>\n",
       "      <td>NaN</td>\n",
       "    </tr>\n",
       "    <tr>\n",
       "      <th>74</th>\n",
       "      <td>u5-bi2mušen-gu7 min(3)</td>\n",
       "      <td>NaN</td>\n",
       "      <td>03m = Š45 iii ?</td>\n",
       "      <td>NaN</td>\n",
       "      <td>NaN</td>\n",
       "      <td>NaN</td>\n",
       "      <td>NaN</td>\n",
       "      <td>NaN</td>\n",
       "      <td>NaN</td>\n",
       "      <td>NaN</td>\n",
       "      <td>...</td>\n",
       "      <td>NaN</td>\n",
       "      <td>NaN</td>\n",
       "      <td>NaN</td>\n",
       "      <td>NaN</td>\n",
       "      <td>NaN</td>\n",
       "      <td>NaN</td>\n",
       "      <td>NaN</td>\n",
       "      <td>NaN</td>\n",
       "      <td>NaN</td>\n",
       "      <td>NaN</td>\n",
       "    </tr>\n",
       "    <tr>\n",
       "      <th>75</th>\n",
       "      <td>udruduru5</td>\n",
       "      <td>NaN</td>\n",
       "      <td>NaN</td>\n",
       "      <td>NaN</td>\n",
       "      <td>NaN</td>\n",
       "      <td>NaN</td>\n",
       "      <td>NaN</td>\n",
       "      <td>NaN</td>\n",
       "      <td>NaN</td>\n",
       "      <td>NaN</td>\n",
       "      <td>...</td>\n",
       "      <td>NaN</td>\n",
       "      <td>NaN</td>\n",
       "      <td>NaN</td>\n",
       "      <td>NaN</td>\n",
       "      <td>NaN</td>\n",
       "      <td>NaN</td>\n",
       "      <td>NaN</td>\n",
       "      <td>NaN</td>\n",
       "      <td>NaN</td>\n",
       "      <td>NaN</td>\n",
       "    </tr>\n",
       "    <tr>\n",
       "      <th>76</th>\n",
       "      <td>UR</td>\n",
       "      <td>NaN</td>\n",
       "      <td>NaN</td>\n",
       "      <td>NaN</td>\n",
       "      <td>NaN</td>\n",
       "      <td>NaN</td>\n",
       "      <td>NaN</td>\n",
       "      <td>NaN</td>\n",
       "      <td>NaN</td>\n",
       "      <td>NaN</td>\n",
       "      <td>...</td>\n",
       "      <td>NaN</td>\n",
       "      <td>NaN</td>\n",
       "      <td>10</td>\n",
       "      <td>NaN</td>\n",
       "      <td>NaN</td>\n",
       "      <td>NaN</td>\n",
       "      <td>NaN</td>\n",
       "      <td>NaN</td>\n",
       "      <td>NaN</td>\n",
       "      <td>NaN</td>\n",
       "    </tr>\n",
       "  </tbody>\n",
       "</table>\n",
       "<p>5 rows × 23 columns</p>\n",
       "</div>"
      ],
      "text/plain": [
       "                     Month Drehem Š26-Š43       Drehem Š44 Drehem Š45  \\\n",
       "72                šu-numun            NaN              NaN        NaN   \n",
       "73         u5-bi2mušen-gu7              3                3          3   \n",
       "74  u5-bi2mušen-gu7 min(3)            NaN  03m = Š45 iii ?        NaN   \n",
       "75               udruduru5            NaN              NaN        NaN   \n",
       "76                      UR            NaN              NaN        NaN   \n",
       "\n",
       "   Drehem Š46 Drehem Š47-AS3 Drehem AS4-5 Drehem ŠS2 Drehem < ŠS3 Drehem ŠS3  \\\n",
       "72        NaN            NaN          NaN        NaN          NaN        NaN   \n",
       "73          3              3            3          3            3          3   \n",
       "74        NaN            NaN          NaN        NaN          NaN        NaN   \n",
       "75        NaN            NaN          NaN        NaN          NaN        NaN   \n",
       "76        NaN            NaN          NaN        NaN          NaN        NaN   \n",
       "\n",
       "    ...   Ur Garšana Umma < Š30 Umma Š30-39 Umma Š40-AS6 Umma AS7-ŠS2  \\\n",
       "72  ...  NaN     NaN          6           6            6            6   \n",
       "73  ...    4       4        NaN         NaN          NaN          NaN   \n",
       "74  ...  NaN     NaN        NaN         NaN          NaN          NaN   \n",
       "75  ...  NaN     NaN        NaN         NaN          NaN          NaN   \n",
       "76  ...  NaN     NaN         10         NaN          NaN          NaN   \n",
       "\n",
       "   Umma ŠS3-IS8 Adab Irisagrig (Owen) Irisagrig (Ozaki)  \n",
       "72            6  NaN              NaN               NaN  \n",
       "73          NaN  NaN              NaN               NaN  \n",
       "74          NaN  NaN              NaN               NaN  \n",
       "75          NaN  NaN              NaN               NaN  \n",
       "76          NaN  NaN              NaN               NaN  \n",
       "\n",
       "[5 rows x 23 columns]"
      ]
     },
     "execution_count": 24,
     "metadata": {},
     "output_type": "execute_result"
    }
   ],
   "source": [
    "data.tail()"
   ]
  },
  {
   "cell_type": "code",
   "execution_count": 15,
   "metadata": {},
   "outputs": [],
   "source": [
    "CityName=set()\n",
    "for i in data:\n",
    "    if i==\"Month\":\n",
    "        continue\n",
    "    else:\n",
    "        l=i.split()\n",
    "        CityName.add(l[0])"
   ]
  },
  {
   "cell_type": "code",
   "execution_count": 16,
   "metadata": {},
   "outputs": [
    {
     "data": {
      "text/plain": [
       "{'Adab', 'Drehem', 'Garšana', 'Girsu', 'Irisagrig', 'Nippur', 'Umma', 'Ur'}"
      ]
     },
     "execution_count": 16,
     "metadata": {},
     "output_type": "execute_result"
    }
   ],
   "source": [
    "CityName"
   ]
  },
  {
   "cell_type": "code",
   "execution_count": 29,
   "metadata": {},
   "outputs": [],
   "source": [
    "Monthsname=set()"
   ]
  },
  {
   "cell_type": "code",
   "execution_count": 30,
   "metadata": {},
   "outputs": [],
   "source": [
    "for i in data[\"Month\"]:\n",
    "    Monthsname.add(i)"
   ]
  },
  {
   "cell_type": "code",
   "execution_count": 36,
   "metadata": {},
   "outputs": [],
   "source": [
    "Monthsname"
   ]
  },
  {
   "cell_type": "code",
   "execution_count": 38,
   "metadata": {},
   "outputs": [],
   "source": [
    "cityname=list(CityName)\n",
    "cityner=[]\n",
    "citypos=[]\n",
    "for i in range(len(CityName)):\n",
    "    cityner.append(\"QN\")\n",
    "    citypos.append(\"N\")"
   ]
  },
  {
   "cell_type": "code",
   "execution_count": 39,
   "metadata": {},
   "outputs": [],
   "source": [
    "monthname=list(Monthsname)\n",
    "monthner=[]\n",
    "monthpos=[]\n",
    "for i in range(len(Monthsname)):\n",
    "    monthner.append(\"MN\")\n",
    "    monthpos.append(\"N\")"
   ]
  },
  {
   "cell_type": "code",
   "execution_count": 43,
   "metadata": {},
   "outputs": [],
   "source": [
    "MONTHS=pd.DataFrame({\"Text\":monthname,\"NER\":monthner,\"POS\":monthpos})\n",
    "CITY=pd.DataFrame({\"Text\":cityname,\"NER\":cityner,\"POS\":citypos})"
   ]
  },
  {
   "cell_type": "code",
   "execution_count": 47,
   "metadata": {},
   "outputs": [],
   "source": [
    "MONTHS.to_csv(\"months_ner.csv\")"
   ]
  },
  {
   "cell_type": "code",
   "execution_count": 49,
   "metadata": {},
   "outputs": [],
   "source": [
    "CITY.to_csv(\"city_ner.csv\")"
   ]
  },
  {
   "cell_type": "code",
   "execution_count": null,
   "metadata": {},
   "outputs": [],
   "source": []
  }
 ],
 "metadata": {
  "kernelspec": {
   "display_name": "Python 3",
   "language": "python",
   "name": "python3"
  },
  "language_info": {
   "codemirror_mode": {
    "name": "ipython",
    "version": 3
   },
   "file_extension": ".py",
   "mimetype": "text/x-python",
   "name": "python",
   "nbconvert_exporter": "python",
   "pygments_lexer": "ipython3",
   "version": "3.6.9"
  }
 },
 "nbformat": 4,
 "nbformat_minor": 4
}
